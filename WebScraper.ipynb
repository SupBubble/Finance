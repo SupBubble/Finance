{
 "cells": [
  {
   "cell_type": "markdown",
   "metadata": {},
   "source": [
    "# Web Scraper for TAL Education Institution Data"
   ]
  },
  {
   "cell_type": "code",
   "execution_count": 1,
   "metadata": {},
   "outputs": [],
   "source": [
    "from urllib.request import urlopen\n",
    "from bs4 import BeautifulSoup\n",
    "import csv\n",
    "import pandas as pd\n",
    "import re"
   ]
  },
  {
   "cell_type": "markdown",
   "metadata": {},
   "source": [
    "## 2. 上海"
   ]
  },
  {
   "cell_type": "code",
   "execution_count": 4,
   "metadata": {},
   "outputs": [],
   "source": [
    "quote_pages = []\n",
    "#defalut research with &\n",
    "for i in range(1, 932):\n",
    "    quote_page = 'http://ssh.speiyou.com/search/sk/?kw=&grade=&lesson=&level=&gtype=time&subject=&term=&service=&m=&d=&bg=n&nu=&curpage='+str(i)\n",
    "    quote_pages.append(quote_page)"
   ]
  },
  {
   "cell_type": "code",
   "execution_count": 5,
   "metadata": {},
   "outputs": [],
   "source": [
    "Courses = []\n",
    "Date = []\n",
    "Time = []\n",
    "Price = []\n",
    "Subject = []\n",
    "Year = []\n",
    "for pg in quote_pages:\n",
    "    resp=urlopen(pg)\n",
    "    soup=BeautifulSoup(resp,'html.parser')\n",
    "    for row in soup.findAll('p'):\n",
    "    #print(row)\n",
    "        subject = re.findall('学科.{4}',str(row))\n",
    "        year = re.findall('<span>年级.{3,6}',str(row))\n",
    "        date = re.findall('开课日期.{22}',str(row))\n",
    "        time = re.findall('上课时间.{3,19}',str(row))\n",
    "    \n",
    "        subject = ''.join(subject)\n",
    "        year = ''.join(year)\n",
    "        date = ''.join(date)\n",
    "        time = ''.join(time)\n",
    "    \n",
    "        year = year.strip('<span></sp')\n",
    "    \n",
    "        Year.append(year)\n",
    "        Subject.append(subject)\n",
    "        Date.append(date)\n",
    "        Time.append(time)\n",
    "        \n",
    "    for row in soup.findAll('div',attrs={'class':'price'}):\n",
    "        price = re.findall('<span>.*</',str(row))\n",
    "        price = ''.join(price)\n",
    "        price = price.strip('<span></')\n",
    "        Price.append(price)"
   ]
  },
  {
   "cell_type": "code",
   "execution_count": 4,
   "metadata": {},
   "outputs": [],
   "source": [
    "#delet empty list from list\n",
    "Date = [x for x in Date if x]\n",
    "Time = [x for x in Time if x]\n",
    "Subject = [x for x in Subject if x]\n",
    "Year = [x for x in Year if x]"
   ]
  },
  {
   "cell_type": "code",
   "execution_count": 5,
   "metadata": {},
   "outputs": [],
   "source": [
    "XES = pd.DataFrame([Year,Subject,Date,Time,Price],index = ['Year','Subject','Date','Time','Price']).T"
   ]
  },
  {
   "cell_type": "code",
   "execution_count": 6,
   "metadata": {},
   "outputs": [],
   "source": [
    "writer = pd.ExcelWriter('Data_Shanghai.xlsx')\n",
    "XES.to_excel(writer)\n",
    "writer.save()"
   ]
  }
 ],
 "metadata": {
  "kernelspec": {
   "display_name": "Python 3",
   "language": "python",
   "name": "python3"
  },
  "language_info": {
   "codemirror_mode": {
    "name": "ipython",
    "version": 3
   },
   "file_extension": ".py",
   "mimetype": "text/x-python",
   "name": "python",
   "nbconvert_exporter": "python",
   "pygments_lexer": "ipython3",
   "version": "3.6.4"
  }
 },
 "nbformat": 4,
 "nbformat_minor": 2
}
